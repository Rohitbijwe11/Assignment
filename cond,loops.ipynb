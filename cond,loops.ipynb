{
 "cells": [
  {
   "cell_type": "code",
   "execution_count": 1,
   "id": "3a8f5624",
   "metadata": {},
   "outputs": [
    {
     "name": "stdout",
     "output_type": "stream",
     "text": [
      "hello rohit\n"
     ]
    }
   ],
   "source": [
    "print(\"hello rohit\")"
   ]
  },
  {
   "cell_type": "code",
   "execution_count": 2,
   "id": "2021e9b2",
   "metadata": {},
   "outputs": [],
   "source": [
    "d1={\"rohit\":\"bijwe\",2546:\"bot\",True:\"pro\"}"
   ]
  },
  {
   "cell_type": "code",
   "execution_count": 3,
   "id": "8abb53f1",
   "metadata": {},
   "outputs": [
    {
     "data": {
      "text/plain": [
       "'bijwe'"
      ]
     },
     "execution_count": 3,
     "metadata": {},
     "output_type": "execute_result"
    }
   ],
   "source": [
    "d1[\"rohit\"]"
   ]
  },
  {
   "cell_type": "code",
   "execution_count": 4,
   "id": "122cf1c4",
   "metadata": {},
   "outputs": [
    {
     "data": {
      "text/plain": [
       "'pro'"
      ]
     },
     "execution_count": 4,
     "metadata": {},
     "output_type": "execute_result"
    }
   ],
   "source": [
    "d1[1]"
   ]
  },
  {
   "cell_type": "code",
   "execution_count": 5,
   "id": "0fe47d8a",
   "metadata": {},
   "outputs": [],
   "source": [
    "d2={\"yo\":\"honey\",\"number\":(1,2),\"ek\":{\"don\":\"noob\"}}"
   ]
  },
  {
   "cell_type": "code",
   "execution_count": 6,
   "id": "87cd0bd8",
   "metadata": {},
   "outputs": [
    {
     "data": {
      "text/plain": [
       "{'yo': 'honey', 'number': (1, 2), 'ek': {'don': 'noob'}}"
      ]
     },
     "execution_count": 6,
     "metadata": {},
     "output_type": "execute_result"
    }
   ],
   "source": [
    "d2"
   ]
  },
  {
   "cell_type": "code",
   "execution_count": 9,
   "id": "e1ef4df2",
   "metadata": {},
   "outputs": [
    {
     "data": {
      "text/plain": [
       "'noob'"
      ]
     },
     "execution_count": 9,
     "metadata": {},
     "output_type": "execute_result"
    }
   ],
   "source": [
    "d2['ek']['don']"
   ]
  },
  {
   "cell_type": "code",
   "execution_count": 11,
   "id": "11c5b80d",
   "metadata": {},
   "outputs": [
    {
     "data": {
      "text/plain": [
       "['yo', 'number', 'ek']"
      ]
     },
     "execution_count": 11,
     "metadata": {},
     "output_type": "execute_result"
    }
   ],
   "source": [
    "list(d2.keys())"
   ]
  },
  {
   "cell_type": "code",
   "execution_count": 12,
   "id": "b6672565",
   "metadata": {},
   "outputs": [
    {
     "data": {
      "text/plain": [
       "dict_values(['honey', (1, 2), {'don': 'noob'}])"
      ]
     },
     "execution_count": 12,
     "metadata": {},
     "output_type": "execute_result"
    }
   ],
   "source": [
    "d2.values()"
   ]
  },
  {
   "cell_type": "code",
   "execution_count": 30,
   "id": "ea4d7a75",
   "metadata": {},
   "outputs": [
    {
     "name": "stdout",
     "output_type": "stream",
     "text": [
      "write your marks33\n",
      "fail\n"
     ]
    }
   ],
   "source": [
    "marks=int(input(\"write your marks\"))\n",
    "if marks >=80 :\n",
    "    print(\"frist class\")\n",
    "elif marks >=60 and marks<80 :\n",
    "    print(\"second class\")\n",
    "elif marks >=40 and marks<60 :\n",
    "    print(\"third class\")\n",
    "else :\n",
    "    print(\"fail\")"
   ]
  },
  {
   "cell_type": "code",
   "execution_count": 4,
   "id": "e4e09833",
   "metadata": {},
   "outputs": [
    {
     "name": "stdout",
     "output_type": "stream",
     "text": [
      "item countity78\n",
      "not get the item\n"
     ]
    }
   ],
   "source": [
    "item =int(input(\"item countity\"))\n",
    "if item <50:\n",
    "    print('i will get that item')\n",
    "elif item <100 and item>=50:\n",
    "    print(\"not get the item\")"
   ]
  },
  {
   "cell_type": "code",
   "execution_count": 1,
   "id": "498174e2",
   "metadata": {},
   "outputs": [
    {
     "name": "stdout",
     "output_type": "stream",
     "text": [
      "f\n"
     ]
    }
   ],
   "source": [
    "print(\"f\")"
   ]
  },
  {
   "cell_type": "code",
   "execution_count": 2,
   "id": "7d9519e8",
   "metadata": {},
   "outputs": [
    {
     "name": "stdout",
     "output_type": "stream",
     "text": [
      "hello\n"
     ]
    }
   ],
   "source": [
    "print(\"hello\")"
   ]
  },
  {
   "cell_type": "code",
   "execution_count": null,
   "id": "f4783b99",
   "metadata": {},
   "outputs": [],
   "source": [
    "1+2\n"
   ]
  },
  {
   "cell_type": "code",
   "execution_count": null,
   "id": "fa644751",
   "metadata": {},
   "outputs": [],
   "source": [
    "1+1"
   ]
  },
  {
   "cell_type": "code",
   "execution_count": 5,
   "id": "61758d76",
   "metadata": {},
   "outputs": [],
   "source": [
    "l=[1,2,4,5,6,7,8,9]"
   ]
  },
  {
   "cell_type": "code",
   "execution_count": 6,
   "id": "fe91a553",
   "metadata": {},
   "outputs": [
    {
     "name": "stdout",
     "output_type": "stream",
     "text": [
      "1\n",
      "2\n",
      "4\n",
      "5\n",
      "6\n",
      "7\n",
      "8\n",
      "9\n"
     ]
    }
   ],
   "source": [
    "for r in l:\n",
    "    print(r)"
   ]
  },
  {
   "cell_type": "code",
   "execution_count": 11,
   "id": "8058c7a6",
   "metadata": {},
   "outputs": [
    {
     "name": "stdout",
     "output_type": "stream",
     "text": [
      "2\n",
      "3\n",
      "5\n",
      "6\n",
      "7\n",
      "8\n",
      "9\n",
      "10\n"
     ]
    }
   ],
   "source": [
    "l1=[]\n",
    "for r in l:\n",
    "    print(r+1)\n",
    "    l1.append(r+1)"
   ]
  },
  {
   "cell_type": "code",
   "execution_count": 18,
   "id": "098039f4",
   "metadata": {},
   "outputs": [],
   "source": [
    "l=[\"rohit\",\"rohan\",\"sumeet\",\"amol\"]"
   ]
  },
  {
   "cell_type": "code",
   "execution_count": 21,
   "id": "722a5085",
   "metadata": {},
   "outputs": [
    {
     "name": "stdout",
     "output_type": "stream",
     "text": [
      "rohit\n",
      "rohan\n",
      "sumeet\n",
      "amol\n"
     ]
    }
   ],
   "source": [
    "l2=[]\n",
    "for i in l:\n",
    "    print(i)\n",
    "    l2.append(i.upper())"
   ]
  },
  {
   "cell_type": "code",
   "execution_count": 22,
   "id": "214bf7ed",
   "metadata": {},
   "outputs": [
    {
     "data": {
      "text/plain": [
       "['ROHIT', 'ROHAN', 'SUMEET', 'AMOL']"
      ]
     },
     "execution_count": 22,
     "metadata": {},
     "output_type": "execute_result"
    }
   ],
   "source": [
    "l2"
   ]
  },
  {
   "cell_type": "code",
   "execution_count": 23,
   "id": "279dd44f",
   "metadata": {},
   "outputs": [],
   "source": [
    "l=[1,2,3,4,5,\"rohit\",\"bijwe\",243,324.2,\"xyz\"]"
   ]
  },
  {
   "cell_type": "code",
   "execution_count": 24,
   "id": "f61f848b",
   "metadata": {},
   "outputs": [],
   "source": [
    "l1num=[]\n",
    "l2num=[]\n",
    "for i in l:\n",
    "    if type(i)== int or type(i)==float:\n",
    "        l1num.append(i)\n",
    "    else :\n",
    "        l2num.append(i)\n",
    "    "
   ]
  },
  {
   "cell_type": "code",
   "execution_count": 25,
   "id": "7e82c889",
   "metadata": {},
   "outputs": [
    {
     "data": {
      "text/plain": [
       "['rohit', 'bijwe', 'xyz']"
      ]
     },
     "execution_count": 25,
     "metadata": {},
     "output_type": "execute_result"
    }
   ],
   "source": [
    "l2num"
   ]
  },
  {
   "cell_type": "code",
   "execution_count": 26,
   "id": "35f3ad06",
   "metadata": {},
   "outputs": [
    {
     "data": {
      "text/plain": [
       "[1, 2, 3, 4, 5, 243, 324.2]"
      ]
     },
     "execution_count": 26,
     "metadata": {},
     "output_type": "execute_result"
    }
   ],
   "source": [
    "l1num"
   ]
  },
  {
   "cell_type": "code",
   "execution_count": null,
   "id": "57ee421b",
   "metadata": {},
   "outputs": [],
   "source": []
  }
 ],
 "metadata": {
  "kernelspec": {
   "display_name": "Python 3 (ipykernel)",
   "language": "python",
   "name": "python3"
  },
  "language_info": {
   "codemirror_mode": {
    "name": "ipython",
    "version": 3
   },
   "file_extension": ".py",
   "mimetype": "text/x-python",
   "name": "python",
   "nbconvert_exporter": "python",
   "pygments_lexer": "ipython3",
   "version": "3.9.13"
  }
 },
 "nbformat": 4,
 "nbformat_minor": 5
}
